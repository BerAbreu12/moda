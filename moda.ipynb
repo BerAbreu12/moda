{
 "cells": [
  {
   "cell_type": "code",
   "execution_count": 1,
   "id": "377ddc07-4484-476f-a53e-aa472848537e",
   "metadata": {},
   "outputs": [
    {
     "name": "stdout",
     "output_type": "stream",
     "text": [
      "Requirement already satisfied: numpy in c:\\users\\windows\\desktop\\pati\\.venv\\lib\\site-packages (1.26.4)\n",
      "Requirement already satisfied: scipy in c:\\users\\windows\\desktop\\pati\\.venv\\lib\\site-packages (1.13.0)\n",
      "Requirement already satisfied: numpy in c:\\users\\windows\\desktop\\pati\\.venv\\lib\\site-packages (1.26.4)\n",
      "\n",
      " DEFINA OS COEFICIENTES \n",
      "\n"
     ]
    },
    {
     "name": "stdin",
     "output_type": "stream",
     "text": [
      "DIGITE UM VALOR PARA k:  55\n"
     ]
    },
    {
     "name": "stdout",
     "output_type": "stream",
     "text": [
      "\n",
      " ==> VALOR FORA DO INTERVALO (0, 1) \n"
     ]
    },
    {
     "name": "stdin",
     "output_type": "stream",
     "text": [
      "DIGITE UM VALOR PARA k:  0.3\n",
      "DIGITE UM VALOR PARA phi :  0.3\n",
      "DIGITE UM VALOR PARA varphi :  1.5\n",
      "DIGITE UM VALOR PARA p:  0.5\n"
     ]
    },
    {
     "name": "stdout",
     "output_type": "stream",
     "text": [
      "0.25923886174438754\n"
     ]
    },
    {
     "name": "stdin",
     "output_type": "stream",
     "text": [
      "\n",
      " DESEJA CALCULAR NOVAMENTE? (0:sim ou 1:nao):  1\n"
     ]
    },
    {
     "name": "stdout",
     "output_type": "stream",
     "text": [
      "\n",
      " FIM DO PROGRAMA, VOLTE SEMPRE. \n",
      "\n"
     ]
    }
   ],
   "source": [
    "# INICIALIZANDO VARIÁVEIS\n",
    "controle = 0\n",
    "k = 0\n",
    "phi = 0\n",
    "varphi = 1 \n",
    "p = 0\n",
    "\n",
    "!pip install numpy scipy\n",
    "# pip show numpy \n",
    "!pip install numpy\n",
    "import numpy as np\n",
    "\n",
    "# Definição da função f(y)\n",
    "def f(y):\n",
    "    return ( (np.log(p) * np.log( (1 - phi) / phi) ) / ( np.log(phi) * np.log(varphi) ) ) * \\\n",
    "        ( ( 1 + ( ( (k * varphi) / (1 - k) ) * ( (1 - y) / y ) ) ** ( np.log( (1 - phi) / phi ) / np.log(varphi) ) ) ** (- ( np.log(p) + np.log(phi) ) / np.log(phi) ) ) * \\\n",
    "        ( ( ( (k * varphi) / (1 - k) ) * ( (1 - y) / y ) ) ** ( np.log( (1 - phi) / phi ) / np.log(varphi) ) ) * ( 1 / ( y * (1 - y) ) )\n",
    "\n",
    "#LAÇO PARA FICAR REPETINDO O CÁLCULO\n",
    "while controle == 0:\n",
    "\n",
    "    # ===================================================================================================\n",
    "    print(\"\\n DEFINA OS COEFICIENTES \\n\")   # Coeficientes m = 0.1 b = 2\n",
    "\n",
    "    aux = 0 #-------------------------------------------------------------------------\n",
    "    while aux == 0:\n",
    "        k = float(input(\"DIGITE UM VALOR PARA k: \"))                # k = 0.3\n",
    "\n",
    "        if 0 < k < 1:\n",
    "            aux = 1\n",
    "        else:\n",
    "            print(\"\\n ==> VALOR FORA DO INTERVALO (0, 1) \")\n",
    "            \n",
    "\n",
    "    aux = 0 #-------------------------------------------------------------------------\n",
    "    while aux == 0:\n",
    "        phi = float(input(\"DIGITE UM VALOR PARA phi : \"))            # phi = 0.3\n",
    "    \n",
    "        if 0 <= phi <= 0.5:\n",
    "            aux = 1\n",
    "        else:\n",
    "            print(\"\\n ==> VALOR FORA DO INTERVALO (0, 0.5) \")\n",
    "\n",
    "    aux = 0 #-------------------------------------------------------------------------\n",
    "    while aux == 0:\n",
    "        varphi = float(input(\"DIGITE UM VALOR PARA varphi : \"))      # varphi = 1.5 \n",
    "\n",
    "        if 1 < varphi:\n",
    "            aux = 1\n",
    "        else:\n",
    "           print(\"\\n ==> VALOR FORA DO INTERVALO, MAIOR QUE 1 \")\n",
    "            \n",
    "\n",
    "    aux = 0 #-------------------------------------------------------------------------\n",
    "    while aux == 0:\n",
    "        p = float(input(\"DIGITE UM VALOR PARA p: \"))                # p = 0.5\n",
    "    \n",
    "        if 0 <= p <= 1:\n",
    "            aux = 1\n",
    "        else:\n",
    "            print(\"\\n ==> VALOR FORA DO INTERVALO [0, 1] \")\n",
    "            \n",
    "\n",
    "    # ===================================================================================================\n",
    "    # Defina o domínio \n",
    "    xmin = 0.0000001\n",
    "    xmax = 0.9999999\n",
    "    \n",
    "    # Crie uma grade de pontos x\n",
    "    x_values = np.linspace(xmin, xmax, 1000)  # 1000 pontos entre xmin e xmax\n",
    "\n",
    "    from scipy.optimize import minimize_scalar\n",
    "\n",
    "    # Encontre o máximo da função -f(y)\n",
    "    result = minimize_scalar(lambda x: -f(x), bounds=(xmin, xmax), method = 'bounded')\n",
    "\n",
    "    print(result.x)\n",
    "\n",
    "    controle = int(input(\"\\n DESEJA CALCULAR NOVAMENTE? (0:sim ou 1:nao): \"))\n",
    "    \n",
    "print(\"\\n FIM DO PROGRAMA, VOLTE SEMPRE. \\n\")\n",
    "\n"
   ]
  },
  {
   "cell_type": "code",
   "execution_count": null,
   "id": "c1b3ba34-e6cb-4382-b0c0-f29a21a4e191",
   "metadata": {},
   "outputs": [],
   "source": []
  }
 ],
 "metadata": {
  "kernelspec": {
   "display_name": "Python 3 (ipykernel)",
   "language": "python",
   "name": "python3"
  },
  "language_info": {
   "codemirror_mode": {
    "name": "ipython",
    "version": 3
   },
   "file_extension": ".py",
   "mimetype": "text/x-python",
   "name": "python",
   "nbconvert_exporter": "python",
   "pygments_lexer": "ipython3",
   "version": "3.12.2"
  }
 },
 "nbformat": 4,
 "nbformat_minor": 5
}
