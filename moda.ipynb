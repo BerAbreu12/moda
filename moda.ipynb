{
 "cells": [
  {
   "cell_type": "code",
   "execution_count": 1,
   "id": "294c9db8-6f25-4d7e-8965-3d4d385e2d0b",
   "metadata": {},
   "outputs": [
    {
     "name": "stdout",
     "output_type": "stream",
     "text": [
      "\n",
      " DEFINA OS COEFICIENTES \n",
      "\n"
     ]
    },
    {
     "name": "stdin",
     "output_type": "stream",
     "text": [
      "DIGITE UM VALOR PARA k:  0.3\n",
      "DIGITE UM VALOR PARA varphi:  1.5\n",
      "DIGITE UM VALOR PARA phi:  0.3\n",
      "DIGITE UM VALOR PARA p:  0.5\n"
     ]
    },
    {
     "name": "stdout",
     "output_type": "stream",
     "text": [
      "0.259\n"
     ]
    },
    {
     "name": "stdin",
     "output_type": "stream",
     "text": [
      "\n",
      " DESEJA CALCULAR NOVAMENTE? (0:sim ou 1:nao): \n",
      " 1\n"
     ]
    },
    {
     "name": "stdout",
     "output_type": "stream",
     "text": [
      "\n",
      " FIM DO PROGRAMA \n",
      "\n"
     ]
    }
   ],
   "source": [
    "####################################################################################\n",
    "# INICIALIZANDO VARIÁVEIS\n",
    "controle = 0\n",
    "k = 0\n",
    "phi = 0\n",
    "varphi = 1 \n",
    "p = 0\n",
    "\n",
    "# pip install numpy scipy\n",
    "# pip show numpy \n",
    "# pip install numpy\n",
    "import numpy as np\n",
    "\n",
    "# Definição da função f(y)\n",
    "def f(y):\n",
    "    return ( (np.log(p) * np.log( (1 - phi) / phi) ) / ( np.log(phi) * np.log(varphi) ) ) * \\\n",
    "        ( ( 1 + ( ( (k * varphi) / (1 - k) ) * ( (1 - y) / y ) ) ** ( np.log( (1 - phi) / phi ) / np.log(varphi) ) ) ** (- ( np.log(p) + np.log(phi) ) / np.log(phi) ) ) * \\\n",
    "        ( ( ( (k * varphi) / (1 - k) ) * ( (1 - y) / y ) ) ** ( np.log( (1 - phi) / phi ) / np.log(varphi) ) ) * ( 1 / ( y * (1 - y) ) )\n",
    "\n",
    "#LAÇO PARA FICAR REPETINDO O CÁLCULO\n",
    "while controle == 0:\n",
    "\n",
    "    print(\"\\n DEFINA OS COEFICIENTES \\n\")\n",
    "\n",
    "    k = float(input(\"DIGITE UM VALOR PARA k: \"))                # k = 0.1\n",
    "    varphi = float(input(\"DIGITE UM VALOR PARA varphi: \"))      # varphi = 1.5\n",
    "    phi = float(input(\"DIGITE UM VALOR PARA phi: \"))            # phi = 0.3\n",
    "    p = float(input(\"DIGITE UM VALOR PARA p: \"))                # p = 0.5\n",
    "    # Coeficientes m = 0.1 b = 2\n",
    "\n",
    "\n",
    "    # Defina o domínio\n",
    "    xmin = 0.0000001\n",
    "    xmax = 0.9999999\n",
    "    \n",
    "    # Crie uma grade de pontos x\n",
    "    x_values = np.linspace(xmin, xmax, 1000)  # 1000 pontos entre xmin e xmax\n",
    "\n",
    "    from scipy.optimize import minimize_scalar\n",
    "\n",
    "    # Encontre o máximo da função -f(y)\n",
    "    result = minimize_scalar(lambda x: -f(x), bounds=(xmin, xmax), method = 'bounded')\n",
    "\n",
    "    resultado = round(result.x, 3)\n",
    "    print(resultado)\n",
    "\n",
    "    controle = int(input(\"\\n DESEJA CALCULAR NOVAMENTE? (0:sim ou 1:nao): \\n\"))\n",
    "    \n",
    "print(\"\\n FIM DO PROGRAMA \\n\")\n",
    "\n",
    "####################################################################################"
   ]
  },
  {
   "cell_type": "code",
   "execution_count": null,
   "id": "5d90d71a-4b09-4954-947b-1a2479cc3d64",
   "metadata": {},
   "outputs": [],
   "source": []
  }
 ],
 "metadata": {
  "kernelspec": {
   "display_name": "Python 3 (ipykernel)",
   "language": "python",
   "name": "python3"
  },
  "language_info": {
   "codemirror_mode": {
    "name": "ipython",
    "version": 3
   },
   "file_extension": ".py",
   "mimetype": "text/x-python",
   "name": "python",
   "nbconvert_exporter": "python",
   "pygments_lexer": "ipython3",
   "version": "3.12.2"
  }
 },
 "nbformat": 4,
 "nbformat_minor": 5
}
